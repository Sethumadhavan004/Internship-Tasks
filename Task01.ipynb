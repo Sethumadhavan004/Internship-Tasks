{
 "cells": [
  {
   "cell_type": "code",
   "execution_count": 2,
   "id": "807dd5bb-0366-45b3-8d09-f57e9e5901ff",
   "metadata": {},
   "outputs": [
    {
     "name": "stdout",
     "output_type": "stream",
     "text": [
      "Updated list: [10, 2, 4, 5, 6]\n"
     ]
    }
   ],
   "source": [
    "#Understanding various data types\n",
    "\n",
    "#Creating List\n",
    "my_list=[1,2,3,4,5]\n",
    "\n",
    "#Adding element into list\n",
    "my_list.append(6)\n",
    "\n",
    "#Removing element from list\n",
    "my_list.remove(3)\n",
    "\n",
    "#Modifying list\n",
    "my_list[0]=10\n",
    "\n",
    "#Output\n",
    "print(\"Updated list:\",my_list)\n"
   ]
  },
  {
   "cell_type": "code",
   "execution_count": 1,
   "id": "0547956f-86f5-4512-8c00-9ebd04baa596",
   "metadata": {},
   "outputs": [
    {
     "name": "stdout",
     "output_type": "stream",
     "text": [
      "Updated dictionary: {'name': 'Ram', 'id': 101, 'branch': 'Chennai'}\n"
     ]
    }
   ],
   "source": [
    "#Creating a dictionary\n",
    "my_dict={'name':'Ram','id':123,'salary':12000}\n",
    "\n",
    "#adding element to the dictionary\n",
    "my_dict['branch']='Chennai'\n",
    "\n",
    "#removing element from dictionary\n",
    "del my_dict['salary']\n",
    "\n",
    "#modifying dictionary\n",
    "my_dict['id']=101\n",
    "\n",
    "print(\"Updated dictionary:\",my_dict)\n"
   ]
  },
  {
   "cell_type": "code",
   "execution_count": 2,
   "id": "6905038e-e7a4-41a5-ae0a-ef9226b859f3",
   "metadata": {},
   "outputs": [
    {
     "name": "stdout",
     "output_type": "stream",
     "text": [
      "Updated set: {1, 2, 4, 7, 10}\n"
     ]
    }
   ],
   "source": [
    "#Creating a set\n",
    "my_set={1,2,3,4,5}\n",
    "\n",
    "#adding elements to set\n",
    "my_set.add(7)\n",
    "\n",
    "#deleting elements from set\n",
    "my_set.remove(5)\n",
    "\n",
    "#modifying the set\n",
    "my_set.discard(3)\n",
    "my_set.add(10)\n",
    "\n",
    "print(\"Updated set:\",my_set)"
   ]
  },
  {
   "cell_type": "code",
   "execution_count": null,
   "id": "1bda1deb-5478-4b68-b711-6ef6d66d6cbd",
   "metadata": {},
   "outputs": [],
   "source": []
  }
 ],
 "metadata": {
  "kernelspec": {
   "display_name": "Python 3 (ipykernel)",
   "language": "python",
   "name": "python3"
  },
  "language_info": {
   "codemirror_mode": {
    "name": "ipython",
    "version": 3
   },
   "file_extension": ".py",
   "mimetype": "text/x-python",
   "name": "python",
   "nbconvert_exporter": "python",
   "pygments_lexer": "ipython3",
   "version": "3.11.7"
  }
 },
 "nbformat": 4,
 "nbformat_minor": 5
}
